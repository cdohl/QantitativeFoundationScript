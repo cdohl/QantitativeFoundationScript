{
 "cells": [
  {
   "cell_type": "markdown",
   "metadata": {},
   "source": [
    "# Quantitative Foundations\n",
    "\n",
    "1. [Construction of Cells and Organisms](Construction.ipynb) \n",
    "\n",
    "2. [Motion in One and Three Dimensions](Motion_new.ipynb) \n",
    "\n",
    "3. [Forces & Netwton's laws](Forces.ipynb)\n",
    "\n",
    "4. [Energy, Power, Conservation of Energy](Energy_conservation.ipynb)\n",
    "\n",
    "5. [Conservation of Momentum](Momentum_Conservation.ipynb)\n",
    "\n",
    "6. [Rotational motion and energy](Rotational_motion_energy.ipynb)\n",
    "\n",
    "7. [Pressure and liquid flows](Pressure.ipynb)\n",
    "\n",
    "8. Oscillations\n",
    "\n",
    "   [8.1 Introduction](Oscillations.ipynb)\n",
    "  \n",
    "   [8.2 Damped, Harmonic Oscillations](Oscillations.ipynb#8.2-Damped-harmonic-oscillations)\n",
    "  \n",
    "   [8.3 Forced Oscillations](Oscillations2.ipynb#8.3-Forced-oscillations)\n",
    "   \n",
    "   [8.4 Superposition of Oscillations](Oscillations3.ipynb#8.4-Superposition-of-oscillations)\n",
    "   \n",
    "   [8.5 Coupled Oscillations](Oscillations3.ipynb#8.5-Coupled-oscillations)\n",
    "   \n",
    "<!---\n",
    "5. Mechanical and Chemical Equilibrium in the Living Cell\n",
    "\n",
    "3. [Mechanical and Chemical Equilibrium in the Living Cell](Energy.ipynb) (under construction)\n",
    "\n",
    "3. Energy: equilibrium, minimization, spring\n",
    "\n",
    "4. Free energy, Gibbs calculus of equilibrium\n",
    "\n",
    "5. Entropy, Boltzmann distribution, Entropy of a gas\n",
    "\n",
    "6. Osmotic energy, membranes\n",
    "\n",
    "7. Ion channels/cooperative binding\n",
    "\n",
    "8. Random Walks & Structure of Macromolecules\n",
    "\n",
    "9. Introduction into classical mechanics & Newton's laws\n",
    "\n",
    "10. Electrostatics of Salt solutions\n",
    "\n",
    "11. Beam Theory for cells/skeletons\n",
    "\n",
    "12. DNA packing, cytoskeleton\n",
    "\n",
    "13. Biological Membranes, Lipids\n",
    "\n",
    "14. Elasticity of the membrane/free energy \n",
    "--->\n"
   ]
  },
  {
   "cell_type": "code",
   "execution_count": null,
   "metadata": {},
   "outputs": [],
   "source": []
  }
 ],
 "metadata": {
  "kernelspec": {
   "display_name": "Python 3 (ipykernel)",
   "language": "python",
   "name": "python3"
  },
  "language_info": {
   "codemirror_mode": {
    "name": "ipython",
    "version": 3
   },
   "file_extension": ".py",
   "mimetype": "text/x-python",
   "name": "python",
   "nbconvert_exporter": "python",
   "pygments_lexer": "ipython3",
   "version": "3.9.12"
  }
 },
 "nbformat": 4,
 "nbformat_minor": 4
}
