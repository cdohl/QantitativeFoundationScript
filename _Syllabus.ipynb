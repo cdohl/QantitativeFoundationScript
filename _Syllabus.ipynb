{
 "cells": [
  {
   "cell_type": "markdown",
   "metadata": {},
   "source": [
    "# Quantitative Foundations\n",
    "\n",
    "1. [Construction of Cells and Organisms](Construction.ipynb) \n",
    "\n",
    "2. [Motion in one and three dimensions](Motion_new.ipynb) \n",
    "\n",
    "3. Forces & Netwton's laws\n",
    "\n",
    "4. Mechanical and Chemical Equilibrium in the Living Cell\n",
    "\n",
    "<!---\n",
    "3. [Mechanical and Chemical Equilibrium in the Living Cell](Energy.ipynb) (under construction)\n",
    "\n",
    "3. Energy: equilibrium, minimization, spring\n",
    "\n",
    "4. Free energy, Gibbs calculus of equilibrium\n",
    "\n",
    "5. Entropy, Boltzmann distribution, Entropy of a gas\n",
    "\n",
    "6. Osmotic energy, membranes\n",
    "\n",
    "7. Ion channels/cooperative binding\n",
    "\n",
    "8. Random Walks & Structure of Macromolecules\n",
    "\n",
    "9. Introduction into classical mechanics & Newton's laws\n",
    "\n",
    "10. Electrostatics of Salt solutions\n",
    "\n",
    "11. Beam Theory for cells/skeletons\n",
    "\n",
    "12. DNA packing, cytoskeleton\n",
    "\n",
    "13. Biological Membranes, Lipids\n",
    "\n",
    "14. Elasticity of the membrane/free energy \n",
    "--->\n"
   ]
  },
  {
   "cell_type": "markdown",
   "metadata": {},
   "source": [
    "These are the math topics that should be covered for and in lectures and tutorials \n",
    "\n",
    "1. Quantities and Units --> Lecture 1\n",
    "2. Numbers and Equations --> Lecture 1\n",
    "3. Tables, Graphs and Functions --> Lecture 1\n",
    "4. Shapes, Waves and Trigonometry\n",
    "5. Differentiation --> Lecture 1\n",
    "6. Integration\n",
    "7. Calculus\n",
    "8. Matrices and vector spaces\n",
    "9. Vector calculus\n",
    "10. Line, surface and volume integrals\n",
    "11. Fourier series\n",
    "12. Integral transforms"
   ]
  },
  {
   "cell_type": "code",
   "execution_count": null,
   "metadata": {},
   "outputs": [],
   "source": []
  }
 ],
 "metadata": {
  "kernelspec": {
   "display_name": "Python 3 (ipykernel)",
   "language": "python",
   "name": "python3"
  },
  "language_info": {
   "codemirror_mode": {
    "name": "ipython",
    "version": 3
   },
   "file_extension": ".py",
   "mimetype": "text/x-python",
   "name": "python",
   "nbconvert_exporter": "python",
   "pygments_lexer": "ipython3",
   "version": "3.9.12"
  }
 },
 "nbformat": 4,
 "nbformat_minor": 4
}
