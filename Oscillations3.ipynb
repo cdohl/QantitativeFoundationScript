{
 "cells": [
  {
   "cell_type": "markdown",
   "id": "ccfcfc22-ef0f-4b69-8add-1f26dd4b9bd7",
   "metadata": {},
   "source": [
    "### 8.4 Superposition of oscillations\n",
    "\n",
    "* Undisturbed superposition ⇨ Addition of the oscillation\n",
    "\n",
    "* Result depends on the frequency, amplitude and phase shift as well as the direction of oscillation\n",
    "\n",
    "#### a) same direction, same frequency $\\omega_0$\n",
    "\n",
    "\\begin{eqnarray}\n",
    "x_1&=&\\hat{x}_1\\,\\sin(\\omega_0\\,t+\\varphi_1)\\\\\n",
    "x_2&=&\\hat{x}_2\\,\\sin(\\omega_0\\,t+\\varphi_2)\n",
    "\\end{eqnarray}\n",
    "\n",
    "$$x_{ges}=x_1+x_2=\\hat{x}\\,\\sin(\\omega_0\\,t +\\varphi)$$\n",
    "\n",
    "$$\\hat{x}=\\sqrt{\\hat{x}_1^2+\\hat{x}_2^2+2\\hat{x}_1\\hat{x}_2\\cos(\\varphi_1-\\varphi_2)}$$\n",
    "\n",
    "$$\\tan\\varphi=\\frac{\\hat{x}_1\\sin\\varphi_1+\\hat{x}_2\\sin\\varphi_2}{\\hat{x}_1\\cos\\varphi_1+\\hat{x}_2\\cos\\varphi_2}$$\n"
   ]
  },
  {
   "cell_type": "code",
   "execution_count": 3,
   "id": "432d521a-ec04-4cbf-a540-3fbdb528b136",
   "metadata": {},
   "outputs": [
    {
     "data": {
      "application/vnd.jupyter.widget-view+json": {
       "model_id": "1a6fe80b64694e5e8627d2a14d1cf8bc",
       "version_major": 2,
       "version_minor": 0
      },
      "text/plain": [
       "interactive(children=(FloatSlider(value=1.0, description='x1', max=1.5), FloatSlider(value=1.0, description='x…"
      ]
     },
     "metadata": {},
     "output_type": "display_data"
    }
   ],
   "source": [
    "%matplotlib inline\n",
    "from ipywidgets import *\n",
    "import numpy as np\n",
    "import matplotlib.pyplot as plt\n",
    "\n",
    "t = np.linspace(0, 8 * np.pi,500)\n",
    "omega0=1.\n",
    "T0=2.*np.pi/omega0\n",
    "\n",
    "def update(x1=1., x2=1., phi1=0., phi2=np.pi/3.):\n",
    "    fig = plt.figure(figsize=(7,4))\n",
    "    x1t=x1*np.sin(omega0*t+phi1)\n",
    "    x2t=x2*np.sin(omega0*t+phi2)\n",
    "    #in obiger Zeile braucht es +0j damit die Potenz von einer komplexen Zahl berechnet wird\n",
    "    plt.plot(t/T0,x1t,'r',t/T0,x2t,'g',t/T0,x1t+x2t,'k')\n",
    "    plt.ylim(-3.,3.)\n",
    "    plt.xlabel(r'$t/T_0$',fontsize=15)\n",
    "    plt.ylabel('Amplitude',fontsize=15)\n",
    "    plt.show()\n",
    "\n",
    "interact(update,x1=(0.,1.5), x2=(0.,1.5), phi1=(.0,np.pi), phi2=(.0,np.pi));"
   ]
  },
  {
   "cell_type": "markdown",
   "id": "9c474fef-59e3-46d1-b4b1-d860fd724651",
   "metadata": {},
   "source": [
    "⇨ maximum gain for $\\varphi_1 - \\varphi_2 = 0$\n",
    "\n",
    "⇨ complete extinction for $\\varphi_1 - \\varphi_2 = \\pi$ and $\\hat{x_1}=\\hat{x_2}$"
   ]
  },
  {
   "cell_type": "markdown",
   "id": "493a6691-ab9c-443c-b5df-49a7f4e6fb71",
   "metadata": {},
   "source": [
    "#### b) same direction, different frequency \n",
    "\n",
    "\\begin{eqnarray}\n",
    "x_1&=&\\hat{x}_1\\,\\sin(\\omega_1\\,t)\\\\\n",
    "x_2&=&\\hat{x}_2\\,\\sin(\\omega_2\\,t)\n",
    "\\end{eqnarray}\n",
    "\n",
    "with $\\omega_1 \\ne \\omega_2$.\n",
    "\n",
    "special case $\\hat{x}_1=\\hat{x}_2=\\hat{x}$:\n",
    "\n",
    "\\begin{eqnarray}\n",
    "x_{tot}&=&x_1(t)+x_2(t)\\\\\n",
    "&=&2\\,\\hat{x}\\,\\cos \\left( \\frac{\\omega_1-\\omega_2}{2}\\,t\\right)\\,\\sin \\left( \\frac{\\omega_1+\\omega_2}{2}\\,t\\right)\n",
    "\\end{eqnarray}\n",
    "\n",
    "with $\\Delta \\omega=\\frac{\\omega_1-\\omega_2}{2}$ and $\\bar{\\omega}=\\frac{\\omega_1+\\omega_2}{2}$\n",
    "\n",
    "$$x_{ges}=2\\,\\hat{x} \\,\\underbrace{\\cos \\left( \\Delta \\omega\\,t\\right)}_\\mbox{slow oscillation}\\,\\overbrace{\\sin \\left( \\bar{\\omega}\\,t\\right)}^\\mbox{fast oscillation}$$\n"
   ]
  },
  {
   "cell_type": "code",
   "execution_count": 9,
   "id": "06b5362c-3905-45fe-8b23-860e9b754643",
   "metadata": {
    "jupyter": {
     "source_hidden": true
    },
    "tags": []
   },
   "outputs": [
    {
     "data": {
      "application/vnd.jupyter.widget-view+json": {
       "model_id": "cd8f1ae9c2144eafa5dadafc8551b833",
       "version_major": 2,
       "version_minor": 0
      },
      "text/plain": [
       "interactive(children=(FloatSlider(value=2.5, description='omega1', max=5.0, min=1.0), FloatSlider(value=3.0, d…"
      ]
     },
     "metadata": {},
     "output_type": "display_data"
    }
   ],
   "source": [
    "%matplotlib inline\n",
    "from ipywidgets import *\n",
    "import numpy as np\n",
    "import matplotlib.pyplot as plt\n",
    "\n",
    "t = np.linspace(0, 10. * np.pi,500)\n",
    "xa=1.\n",
    "\n",
    "def update(omega1=2.5,omega2=3.0):\n",
    "    if (omega1!=omega2):\n",
    "        Ts=np.abs(np.pi*2./(omega1-omega2))\n",
    "    else: \n",
    "        Ts=0.\n",
    "    fig = plt.figure(figsize=(7,4))\n",
    "    x1t=xa*np.sin(omega1*t)\n",
    "    x2t=xa*np.sin(omega2*t)\n",
    "    xslow=2.*xa*np.cos((omega1-omega2)/2.*t)\n",
    "    #in obiger Zeile braucht es +0j damit die Potenz von einer komplexen Zahl berechnet wird\n",
    "    plt.plot(t,x1t+x2t,'k-',t,xslow,'k--',t,-xslow,'k--')\n",
    "    plt.gca().axhline(y=2.*xa, color='k', linestyle='-.' )\n",
    "    plt.ylim(-3.,3.)\n",
    "    plt.xlabel(r'$t$',fontsize=15)\n",
    "    plt.ylabel('Amplitude',fontsize=15)\n",
    "    plt.gca().annotate(\"\",\n",
    "            xy=(0, -2.3), xycoords='data',\n",
    "            xytext=(Ts, -2.3), textcoords='data',\n",
    "            arrowprops=dict(arrowstyle=\"<->\",\n",
    "                            connectionstyle=\"arc3\"),\n",
    "            )\n",
    "    plt.text(Ts/2.,-2.7,r'$T_B$',fontsize=15)\n",
    "    plt.show()\n",
    "\n",
    "interact(update,omega1=(1.,5.), omega2=(1,5.));"
   ]
  },
  {
   "cell_type": "markdown",
   "id": "612cd7e6-6185-4c44-8e9e-546312dd714e",
   "metadata": {},
   "source": [
    "Beat duration: $T_B$\n",
    "\n",
    "Modulation duration: $T_M=\\frac{2\\pi}{\\Delta\\omega}$\n",
    "\n",
    "and therefore $T_B=\\frac{T_M}{2}$."
   ]
  },
  {
   "cell_type": "markdown",
   "id": "01cd9b57-5e8a-41a0-9a9e-cbc7121dd5c2",
   "metadata": {},
   "source": [
    "#### c) Propagation direction perpendicular to each other\n",
    "\n",
    "\\begin{eqnarray}\n",
    "x(t)&=&\\hat{x}\\,\\sin(\\omega_x\\,t + \\varphi_x)\\\\\n",
    "y(t)&=&\\hat{y}\\,\\sin(\\omega_y\\,t + \\varphi_y)\n",
    "\\end{eqnarray}\n",
    "\n",
    "\n",
    "⇨ standing figures: Lissajous figures\n",
    "  for rational frequency ratios\n",
    "  \n",
    "  $$\\omega_x : \\omega_y = 1:1,\\, 1:2,\\, 2:3,\\, 5:7,\\, \\dots$$\n",
    "  "
   ]
  },
  {
   "cell_type": "code",
   "execution_count": 18,
   "id": "d86248a5-891a-4470-9dcd-2d0da685a1b4",
   "metadata": {},
   "outputs": [
    {
     "data": {
      "application/vnd.jupyter.widget-view+json": {
       "model_id": "c7be4cb2649e4fb99268425143443597",
       "version_major": 2,
       "version_minor": 0
      },
      "text/plain": [
       "interactive(children=(FloatSlider(value=1.0, description='omega_x', max=5.0, min=1.0), FloatSlider(value=2.0, …"
      ]
     },
     "metadata": {},
     "output_type": "display_data"
    }
   ],
   "source": [
    "%matplotlib inline\n",
    "from ipywidgets import *\n",
    "import numpy as np\n",
    "import matplotlib.pyplot as plt\n",
    "\n",
    "\n",
    "omega0=1.\n",
    "T0=2.*np.pi/omega0\n",
    "\n",
    "xa=1.\n",
    "ya=1.\n",
    "def update(omega_x=1., omega_y=2., phi_x=0., phi_y=0.):\n",
    "    fig = plt.figure(figsize=(6,6))\n",
    "    t = np.linspace(0, 10. * np.pi,500)\n",
    "    x=xa*np.sin(omega_x*t+phi_x)\n",
    "    y=xa*np.sin(omega_y*t+phi_y)\n",
    "    #in obiger Zeile braucht es +0j damit die Potenz von einer komplexen Zahl berechnet wird\n",
    "    plt.plot(x,y,)\n",
    "    plt.ylim(-1.1,1.1);plt.xlim(-1.1,1.1)\n",
    "    ax=plt.gca()\n",
    "    ax.spines['left'].set_position('center'); ax.spines['right'].set_color('none')\n",
    "    ax.spines['bottom'].set_position('center');ax.spines['top'].set_color('none')\n",
    "    #ax.spines['left'].set_smart_bounds(True);ax.spines['bottom'].set_smart_bounds(True)\n",
    "    ax.xaxis.set_ticks_position('bottom');ax.yaxis.set_ticks_position('left')\n",
    "    plt.show()\n",
    "\n",
    "interact(update,omega_x=(1.,5.), omega_y=(1.,5.), phi_x=(-1.5,1.5), phi_y=(-1.5,1.5));"
   ]
  },
  {
   "cell_type": "markdown",
   "id": "e9df416b-5d97-4673-98be-65cca4c3f895",
   "metadata": {},
   "source": [
    "Check that for $\\omega_x : \\omega_y= 1:1$ and $\\varphi_x=\\varphi_y$ the Lissajous figure is a straight line."
   ]
  },
  {
   "cell_type": "markdown",
   "id": "fbbf6ce5-b2bd-47a8-9963-baec8ba6246e",
   "metadata": {},
   "source": [
    "### 8.5 Coupled oscillations\n",
    "\n",
    "* Example: two coupled spring oscillations\n",
    "\n",
    "\n",
    "<img src=\"figs/24.5_1.png\" alt=\"24.5_1\" style=\"width: 450px;\"/>\n",
    "\n",
    "\n",
    "<p>\n",
    "\n",
    "* Objective: Determination of $x_1(t)$ and $x_2(t)$\n",
    "\n",
    "<p>\n",
    "\n",
    "* ODE:\n",
    "  \\begin{eqnarray}\n",
    "  m_1\\,\\ddot{x}_1&=&-k_1\\,x_1 - k_{12}(x_1-x_2)\\\\\n",
    "  m_2\\,\\ddot{x}_2&=&-k_2\\,x_1 - k_{12}(x_2-x_1)\n",
    "  \\end{eqnarray}\n",
    "  \n",
    "  ⇨ coupled system of ODEs\n",
    "<p>  \n",
    "* here as an example:\n",
    "  $$m_1=m_2=m$$\n",
    "  $$k_1=k_2=k$$\n",
    "  \n",
    "  \n",
    "* Addition of the ODEs\n",
    "\n",
    "  $$m(\\ddot{x}_1+\\ddot{x}_2)=-k(x_1+x_2)\\tag{11.4.1}$$\n",
    "  \n",
    "* Subtraction of the ODEs\n",
    "\n",
    "  $$m(\\ddot{x}_1-\\ddot{x}_2)=-k(x_1-x_2)-2k_{12}(x_1-x_2)\\tag{11.4.2}$$\n",
    "\n",
    "* Variable substitution\n",
    "\n",
    "  \\begin{eqnarray}\n",
    "  u_1 &=& x_1 + x_2 \\quad u_2&=&x_1-x_2\\\\\n",
    "  \\ddot{u}_1 &=& \\ddot{x}_1 + \\ddot{x}_2 \\quad \\ddot{u}_2 &=& \\ddot{x}_1 - \\ddot{x}_2\n",
    "  \\end{eqnarray}\n",
    "  \n",
    "* Insert into eq. (11.4.1)\n",
    "\n",
    "  \\begin{eqnarray}\n",
    "  \\ddot{u}_1+\\frac{k}{m}\\,u_1 = 0 \\quad \\omega_0^2&=&\\frac{k}{m}\\\\\\\n",
    "  \\ddot{u}_2+\\frac{k+2\\,k_{12}}{m}\\,u_2 = 0 \\quad \\omega_1^2&=&\\frac{k+2\\,k_{12}}{m}=\\omega_0^2+\\frac{2\\,k_{12}}{m}  \n",
    "  \\end{eqnarray}\n",
    "  \n",
    "  $$\\omega_1>\\omega_0$$\n",
    "\n",
    "⇨ Fundamental oscillations as a function of the initial conditions\n",
    "\n",
    "1st **Fundamental oscillation (in-phase)**\n",
    "\n",
    "  Initial deflection:\n",
    "  $$x_1(t=0)=x_2(t=0)=\\hat{x}$$\n",
    "  \n",
    "  Initial velocity:\n",
    "  $$\\dot{x}_1(t=0)=\\dot{x}_2(t=0)=0$$\n",
    "  \n",
    "  Result:\n",
    "  \n",
    "  \\begin{eqnarray}\n",
    "  x_1 &=& \\hat{x} \\, \\cos(\\omega_0\\,t)\\\\\n",
    "  x_2 &=& \\hat{x} \\, \\cos(\\omega_0\\,t)\n",
    "  \\end{eqnarray}\n",
    "    \n",
    "    \n",
    "  ⇨ the coupling plays no role\n",
    "  \n",
    "  ⇨ both masses oscillate with $\\omega_0 = \\sqrt{\\frac{k}{m}}$\n",
    "  \n",
    "  ⇨ Motion as in the uncoupled case\n",
    "\n",
    "2nd **Fundamental oscillation (antiphase)**\n",
    "\n",
    "  Initial deflection:\n",
    "  $$x_1(t=0)=\\hat{x}\\quad x_2(t=0)=-\\hat{x}$$\n",
    "  \n",
    "  Initial velocity:\n",
    "  $$\\dot{x}_1(t=0)=0\\quad \\dot{x}_2(t=0)=0$$\n",
    "  \n",
    "  Result:\n",
    "  \n",
    "  \\begin{eqnarray}\n",
    "  x_1 &=& \\hat{x} \\, \\cos(\\omega_1\\,t)\\\\\n",
    "  x_2 &=& -\\hat{x} \\, \\cos(\\omega_1\\,t)\n",
    "  \\end{eqnarray}\n",
    "  \n",
    "  ⇨ the coupling becomes effective with $\\omega_1 >\\omega_0$.\n",
    "  \n",
    "  \n",
    "3rd **beating**\n",
    "\n",
    "  Initial deflection:\n",
    "  $$x_1(t=0)=\\hat{x}\\quad x_2(t=0)=0$$\n",
    "  \n",
    "  Initial velocity:\n",
    "  $$\\dot{x}_1(t=0)=0\\quad \\dot{x}_2(t=0)=0$$\n",
    "  \n",
    "  Result:\n",
    "  \n",
    "  \\begin{eqnarray}\n",
    "  x_1(t)&=&\\hat{x}\\left[\\cos( \\bar{\\omega}\\,t)\\,\\cos\\left(\\frac{\\Delta\\omega}{2}\\,t\\right)\\right]\\\\\n",
    "  x_2(t)&=&-\\hat{x}\\left[\\sin( \\bar{\\omega}\\,t)\\,\\sin\\left(\\frac{\\Delta\\omega}{2}\\,t\\right)\\right]\n",
    "  \\end{eqnarray}\n",
    "  \n",
    "  $$\\bar{\\omega}=\\frac{\\omega_0+\\omega_1}{2}\\quad \\Delta\\omega = \\omega_1-\\omega_0$$\n",
    "  \n",
    "  Slowly varying envelope:\n",
    "  \n",
    "  $$\\hat{x}\\,\\sin\\left(\\frac{\\Delta\\omega}{2}\\,t\\right)$$\n",
    "  resp.\n",
    "  $$\\hat{x}\\,\\cos\\left(\\frac{\\Delta\\omega}{2}\\,t\\right)$$"
   ]
  },
  {
   "cell_type": "code",
   "execution_count": 2,
   "id": "605e4dd6-810b-47f1-8837-b8bae3c482b8",
   "metadata": {},
   "outputs": [
    {
     "data": {
      "application/vnd.jupyter.widget-view+json": {
       "model_id": "d5fa86f6a2434f88be6021478fcfc9d3",
       "version_major": 2,
       "version_minor": 0
      },
      "text/plain": [
       "interactive(children=(FloatSlider(value=1.0, description='x10', max=1.0, min=-1.0), FloatSlider(value=1.0, des…"
      ]
     },
     "metadata": {},
     "output_type": "display_data"
    }
   ],
   "source": [
    "%matplotlib inline\n",
    "from ipywidgets import *\n",
    "import numpy as np\n",
    "import matplotlib.pyplot as plt\n",
    "from scipy.integrate import odeint\n",
    "\n",
    "\n",
    "kg=1.\n",
    "k12g=1.\n",
    "m1g=1.\n",
    "m2g=1.\n",
    "\n",
    "def coupled_oscillator(yy,t):\n",
    "    global kg, k12g, m1g, m2g\n",
    "    x1=yy[0]\n",
    "    x1dot=yy[1]\n",
    "    x2=yy[2]\n",
    "    x2dot=yy[3]\n",
    "    return [x1dot,-kg/m1g*x1-k12g/m1g*(x1-x2),x2dot,-kg/m2g*x2-k12g/m2g*(x2-x1)]\n",
    "\n",
    "\n",
    "def update(x10=1., x20=1., m1=1., m2=1., k=1., k12=1.):\n",
    "    global kg, k12g, m1g, m2g\n",
    "    kg=k;k12g=k12;m1g=m1;m2g=m2\n",
    "    t = np.linspace(0, 12 * np.pi,500)\n",
    "    y=odeint(coupled_oscillator,[x10,0.,x20, 0.], t)\n",
    "    x1=y[:,0]\n",
    "    x2=y[:,2]\n",
    "    fig = plt.figure(figsize=(9,4))\n",
    "    \n",
    "    plt.plot(t,x1,label=r'$x_1(t)$')\n",
    "    plt.plot(t,x2,label=r'$x_2(t)$')\n",
    "    #plt.ylim(-1.,1.)\n",
    "    plt.xlabel(r'$t$',fontsize=15)\n",
    "    plt.ylabel('Amplitude',fontsize=15)\n",
    "    plt.legend(loc=1,fontsize=15)\n",
    "    plt.show()\n",
    "\n",
    "interact(update,x10=(-1.,1.), x20=(-1.,1.), k=(.1,2.), k12=(0,2.), m1=(0.1,2.), m2=(0.1,2.));"
   ]
  },
  {
   "cell_type": "code",
   "execution_count": null,
   "id": "8b201d0c-cd2c-4c63-a7be-34e681bd9bd7",
   "metadata": {},
   "outputs": [],
   "source": []
  }
 ],
 "metadata": {
  "kernelspec": {
   "display_name": "Python 3 (ipykernel)",
   "language": "python",
   "name": "python3"
  },
  "language_info": {
   "codemirror_mode": {
    "name": "ipython",
    "version": 3
   },
   "file_extension": ".py",
   "mimetype": "text/x-python",
   "name": "python",
   "nbconvert_exporter": "python",
   "pygments_lexer": "ipython3",
   "version": "3.9.12"
  }
 },
 "nbformat": 4,
 "nbformat_minor": 5
}
